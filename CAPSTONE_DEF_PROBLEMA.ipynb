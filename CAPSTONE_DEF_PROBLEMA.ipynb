{
 "cells": [
  {
   "cell_type": "code",
   "execution_count": null,
   "id": "5ee8d0cc",
   "metadata": {},
   "outputs": [],
   "source": [
    "#Descripción del problema y discusión de antecedentes: \n",
    "\n",
    "#En el mundo empresarial moderno, la ubicación es un factor crucial para el éxito de un negocio. En este proyecto, nos \n",
    "#centramos en identificar áreas con alta concentración de establecimientos en la ciudad de Nueva York. La ciudad es conocida \n",
    "#por su diversidad y dinamismo, lo que la convierte en un lugar atractivo para abrir nuevos negocios. La problemática radica \n",
    "#en determinar cuáles son las áreas con mayor concentración de establecimientos, lo que podría indicar una mayor actividad \n",
    "#comercial y afluencia de clientes. Este análisis ayudará a los empresarios y propietarios de negocios a tomar decisiones \n",
    "#informadas sobre dónde ubicar sus negocios para maximizar la exposición y el éxito."
   ]
  },
  {
   "cell_type": "code",
   "execution_count": null,
   "id": "146ff706",
   "metadata": {},
   "outputs": [],
   "source": [
    "#Descripción de los datos y cómo se utilizarán para resolver el problema:\n",
    "#Para resolver este problema, utilizamos datos de ubicación geográfica de la API de Google Places, que nos proporciona \n",
    "#información sobre establecimientos en la ciudad de Nueva York, como coordenadas geográficas y tipos de establecimientos. \n",
    "#Estos datos nos permiten analizar la distribución geográfica de los lugares y agruparlos según su proximidad. Utilizamos el \n",
    "#algoritmo de clustering K-means para identificar clusters de lugares cercanos, lo que nos ayuda a comprender la distribución \n",
    "#de los establecimientos en la ciudad y a identificar áreas de mayor concentración. Luego, visualizamos los clusters en un mapa \n",
    "#y analizamos la cantidad de lugares en cada cluster para obtener una visión cuantitativa de las áreas con mayor concentración \n",
    "#de establecimientos en la ciudad de Nueva York. Estos resultados nos permiten abordar la problemática inicial y proporcionar \n",
    "#información valiosa para aquellos que buscan ubicar un negocio en la ciudad."
   ]
  }
 ],
 "metadata": {
  "kernelspec": {
   "display_name": "Python 3 (ipykernel)",
   "language": "python",
   "name": "python3"
  },
  "language_info": {
   "codemirror_mode": {
    "name": "ipython",
    "version": 3
   },
   "file_extension": ".py",
   "mimetype": "text/x-python",
   "name": "python",
   "nbconvert_exporter": "python",
   "pygments_lexer": "ipython3",
   "version": "3.9.12"
  }
 },
 "nbformat": 4,
 "nbformat_minor": 5
}
