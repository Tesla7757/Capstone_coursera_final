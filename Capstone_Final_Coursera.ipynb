{
 "cells": [
  {
   "cell_type": "code",
   "execution_count": 1,
   "id": "2dc6f770",
   "metadata": {},
   "outputs": [],
   "source": [
    "#Este Notebook se usará para correr el proyecto final Capstone, del programa para ciencia de datos aplicado por IBM y Coursera. \n"
   ]
  },
  {
   "cell_type": "code",
   "execution_count": 1,
   "id": "6867b5d1",
   "metadata": {},
   "outputs": [],
   "source": [
    "#Pregunta 1\n",
    "\n",
    "#El problema a revisar consta del análisis y la comparación de dos barrios en ciudades distintas, para este caso, ciudades\n",
    "#principales en España como son Madrid y Barcelona, para de esta forma poder recomendar la mejor ubicación para iniciar un\n",
    "#restaurante de comida Japonesa. El análisis podrá incluir la densidad de restaurantes japoneses en los barrios de ambas \n",
    "#ciudades, la popularidad de estos restaurantes y la competencia en las áreas circundantes. Esto puede ayudar a un empresario \n",
    "#a tomar una decisión informada sobre dónde establecer su negocio."
   ]
  },
  {
   "cell_type": "code",
   "execution_count": 3,
   "id": "b00aa336",
   "metadata": {},
   "outputs": [],
   "source": [
    "#Pregunta 2\n",
    "\n",
    "#En este modelo, estamos utilizando los datos de ubicación de los restaurantes japoneses en las ciudades de Madrid y Barcelona, \n",
    "#obtenidos a través de la API de Foursquare. Los datos incluyen:\n",
    "\n",
    "#Neighborhood: Nombre del vecindario o ciudad en la que se encuentra el restaurante (en este caso, Madrid o Barcelona).\n",
    "#Neighborhood Latitude: Latitud del vecindario o ciudad en la que se encuentra el restaurante.\n",
    "#Neighborhood Longitude: Longitud del vecindario o ciudad en la que se encuentra el restaurante.\n",
    "#Venue: Nombre del restaurante japonés.\n",
    "#Venue Latitude: Latitud del restaurante japonés.\n",
    "#Venue Longitude: Longitud del restaurante japonés.\n",
    "#Venue Category: Categoría del lugar, en este caso, estamos interesados en 'Japanese Restaurant' (restaurante japonés)."
   ]
  }
 ],
 "metadata": {
  "kernelspec": {
   "display_name": "Python 3 (ipykernel)",
   "language": "python",
   "name": "python3"
  },
  "language_info": {
   "codemirror_mode": {
    "name": "ipython",
    "version": 3
   },
   "file_extension": ".py",
   "mimetype": "text/x-python",
   "name": "python",
   "nbconvert_exporter": "python",
   "pygments_lexer": "ipython3",
   "version": "3.9.12"
  }
 },
 "nbformat": 4,
 "nbformat_minor": 5
}
